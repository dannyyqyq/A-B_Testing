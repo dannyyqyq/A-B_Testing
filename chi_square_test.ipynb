{
 "cells": [
  {
   "cell_type": "markdown",
   "metadata": {},
   "source": [
    "### AB TESTING - Grocery Store"
   ]
  },
  {
   "cell_type": "code",
   "execution_count": 1,
   "metadata": {},
   "outputs": [],
   "source": [
    "import pandas as pd\n",
    "from scipy.stats import chi2_contingency, chi2"
   ]
  },
  {
   "cell_type": "code",
   "execution_count": 2,
   "metadata": {},
   "outputs": [],
   "source": [
    "# Import data\n",
    "campaign_data = pd.read_excel('grocery_database.xlsx', sheet_name='campaign_data')"
   ]
  },
  {
   "cell_type": "code",
   "execution_count": 3,
   "metadata": {},
   "outputs": [
    {
     "data": {
      "application/vnd.microsoft.datawrangler.viewer.v0+json": {
       "columns": [
        {
         "name": "index",
         "rawType": "int64",
         "type": "integer"
        },
        {
         "name": "customer_id",
         "rawType": "int64",
         "type": "integer"
        },
        {
         "name": "campaign_name",
         "rawType": "object",
         "type": "string"
        },
        {
         "name": "campaign_date",
         "rawType": "datetime64[ns]",
         "type": "datetime"
        },
        {
         "name": "mailer_type",
         "rawType": "object",
         "type": "string"
        },
        {
         "name": "signup_flag",
         "rawType": "int64",
         "type": "integer"
        }
       ],
       "conversionMethod": "pd.DataFrame",
       "ref": "02ea02ab-4124-4a12-90d1-fb6826a55baf",
       "rows": [
        [
         "0",
         "74",
         "delivery_club",
         "2020-07-01 00:00:00",
         "Mailer1",
         "1"
        ],
        [
         "1",
         "524",
         "delivery_club",
         "2020-07-01 00:00:00",
         "Mailer1",
         "1"
        ],
        [
         "2",
         "607",
         "delivery_club",
         "2020-07-01 00:00:00",
         "Mailer2",
         "1"
        ],
        [
         "3",
         "343",
         "delivery_club",
         "2020-07-01 00:00:00",
         "Mailer1",
         "0"
        ],
        [
         "4",
         "322",
         "delivery_club",
         "2020-07-01 00:00:00",
         "Mailer2",
         "1"
        ]
       ],
       "shape": {
        "columns": 5,
        "rows": 5
       }
      },
      "text/html": [
       "<div>\n",
       "<style scoped>\n",
       "    .dataframe tbody tr th:only-of-type {\n",
       "        vertical-align: middle;\n",
       "    }\n",
       "\n",
       "    .dataframe tbody tr th {\n",
       "        vertical-align: top;\n",
       "    }\n",
       "\n",
       "    .dataframe thead th {\n",
       "        text-align: right;\n",
       "    }\n",
       "</style>\n",
       "<table border=\"1\" class=\"dataframe\">\n",
       "  <thead>\n",
       "    <tr style=\"text-align: right;\">\n",
       "      <th></th>\n",
       "      <th>customer_id</th>\n",
       "      <th>campaign_name</th>\n",
       "      <th>campaign_date</th>\n",
       "      <th>mailer_type</th>\n",
       "      <th>signup_flag</th>\n",
       "    </tr>\n",
       "  </thead>\n",
       "  <tbody>\n",
       "    <tr>\n",
       "      <th>0</th>\n",
       "      <td>74</td>\n",
       "      <td>delivery_club</td>\n",
       "      <td>2020-07-01</td>\n",
       "      <td>Mailer1</td>\n",
       "      <td>1</td>\n",
       "    </tr>\n",
       "    <tr>\n",
       "      <th>1</th>\n",
       "      <td>524</td>\n",
       "      <td>delivery_club</td>\n",
       "      <td>2020-07-01</td>\n",
       "      <td>Mailer1</td>\n",
       "      <td>1</td>\n",
       "    </tr>\n",
       "    <tr>\n",
       "      <th>2</th>\n",
       "      <td>607</td>\n",
       "      <td>delivery_club</td>\n",
       "      <td>2020-07-01</td>\n",
       "      <td>Mailer2</td>\n",
       "      <td>1</td>\n",
       "    </tr>\n",
       "    <tr>\n",
       "      <th>3</th>\n",
       "      <td>343</td>\n",
       "      <td>delivery_club</td>\n",
       "      <td>2020-07-01</td>\n",
       "      <td>Mailer1</td>\n",
       "      <td>0</td>\n",
       "    </tr>\n",
       "    <tr>\n",
       "      <th>4</th>\n",
       "      <td>322</td>\n",
       "      <td>delivery_club</td>\n",
       "      <td>2020-07-01</td>\n",
       "      <td>Mailer2</td>\n",
       "      <td>1</td>\n",
       "    </tr>\n",
       "  </tbody>\n",
       "</table>\n",
       "</div>"
      ],
      "text/plain": [
       "   customer_id  campaign_name campaign_date mailer_type  signup_flag\n",
       "0           74  delivery_club    2020-07-01     Mailer1            1\n",
       "1          524  delivery_club    2020-07-01     Mailer1            1\n",
       "2          607  delivery_club    2020-07-01     Mailer2            1\n",
       "3          343  delivery_club    2020-07-01     Mailer1            0\n",
       "4          322  delivery_club    2020-07-01     Mailer2            1"
      ]
     },
     "execution_count": 3,
     "metadata": {},
     "output_type": "execute_result"
    }
   ],
   "source": [
    "campaign_data.head()"
   ]
  },
  {
   "cell_type": "code",
   "execution_count": 4,
   "metadata": {},
   "outputs": [],
   "source": [
    "# Filter data\n",
    "campaign_data = campaign_data.loc[campaign_data['mailer_type'] != 'Control']"
   ]
  },
  {
   "cell_type": "code",
   "execution_count": 5,
   "metadata": {},
   "outputs": [
    {
     "data": {
      "text/plain": [
       "(np.float64(0.328), np.float64(0.37797619047619047))"
      ]
     },
     "execution_count": 5,
     "metadata": {},
     "output_type": "execute_result"
    }
   ],
   "source": [
    "# Summarise to get observed frequencies\n",
    "observed_values = pd.crosstab(campaign_data[\"mailer_type\"], campaign_data[\"signup_flag\"]).values\n",
    "mailer1_sign_rate_1 = observed_values[0][1] / (observed_values[0][0] + observed_values[0][1])\n",
    "mailer1_sign_rate_2 = observed_values[1][1] / (observed_values[1][0] + observed_values[1][1])\n",
    "mailer1_sign_rate_1,mailer1_sign_rate_2"
   ]
  },
  {
   "cell_type": "code",
   "execution_count": 6,
   "metadata": {},
   "outputs": [],
   "source": [
    "# Set up hypothesis\n",
    "null_hypothesis = \"There is no relationship in sign-up rates between the two mailer types. They are independent\"\n",
    "alternate_hypothesis = \"There is a relationship in sign-up rates between the two mailer types. They are not independent\"\n",
    "acceptance_criteria = 0.05"
   ]
  },
  {
   "cell_type": "code",
   "execution_count": 7,
   "metadata": {},
   "outputs": [
    {
     "data": {
      "text/plain": [
       "(np.float64(1.9414468614812481), np.float64(0.16351152223398197), 1)"
      ]
     },
     "execution_count": 7,
     "metadata": {},
     "output_type": "execute_result"
    }
   ],
   "source": [
    "# Calculate expected frequencies & chi2 statistic\n",
    "chi2_statistic, p_value, dof, expected_values = chi2_contingency(observed_values, \n",
    "                                                      correction=False) # correction=False is used to use the chi2 formula without Yates correction\n",
    "chi2_statistic, p_value, dof"
   ]
  },
  {
   "cell_type": "code",
   "execution_count": 9,
   "metadata": {},
   "outputs": [
    {
     "data": {
      "text/plain": [
       "np.float64(3.841458820694124)"
      ]
     },
     "execution_count": 9,
     "metadata": {},
     "output_type": "execute_result"
    }
   ],
   "source": [
    "# Find critical value for the test\n",
    "critical_value = chi2.ppf(1-acceptance_criteria, dof)\n",
    "critical_value"
   ]
  },
  {
   "cell_type": "code",
   "execution_count": 10,
   "metadata": {},
   "outputs": [
    {
     "name": "stdout",
     "output_type": "stream",
     "text": [
      "As our chi-square statistic of 1.9414468614812481 is lower than our critical value of 3.841458820694124 - we retain the null hypothesis, and conclude that: There is no relationship in sign-up rates between the two mailer types. They are independent\n"
     ]
    }
   ],
   "source": [
    "# Chi Square statistics\n",
    "if chi2_statistic >= critical_value:\n",
    "    print(f\"As our chi-square statistic of {chi2_statistic} is higher than our critical value of {critical_value} - we reject the null hypothesis, and conclude that: {alternate_hypothesis}\")\n",
    "else:\n",
    "    print(f\"As our chi-square statistic of {chi2_statistic} is lower than our critical value of {critical_value} - we retain the null hypothesis, and conclude that: {null_hypothesis}\")"
   ]
  },
  {
   "cell_type": "code",
   "execution_count": 11,
   "metadata": {},
   "outputs": [
    {
     "name": "stdout",
     "output_type": "stream",
     "text": [
      "As our p-value of 0.16351152223398197 is higher than our acceptance_criteria of 0.05 - we retain the null hypothesis, and conclude that: There is no relationship in sign-up rates between the two mailer types. They are independent\n"
     ]
    }
   ],
   "source": [
    "# P-value\n",
    "if p_value <= acceptance_criteria:\n",
    "    print(f\"As our p-value of {p_value} is lower than our acceptance_criteria of {acceptance_criteria} - we reject the null hypothesis, and conclude that: {alternate_hypothesis}\")\n",
    "else:\n",
    "    print(f\"As our p-value of {p_value} is higher than our acceptance_criteria of {acceptance_criteria} - we retain the null hypothesis, and conclude that: {null_hypothesis}\")"
   ]
  },
  {
   "cell_type": "code",
   "execution_count": null,
   "metadata": {},
   "outputs": [],
   "source": []
  }
 ],
 "metadata": {
  "kernelspec": {
   "display_name": "Python 3",
   "language": "python",
   "name": "python3"
  },
  "language_info": {
   "codemirror_mode": {
    "name": "ipython",
    "version": 3
   },
   "file_extension": ".py",
   "mimetype": "text/x-python",
   "name": "python",
   "nbconvert_exporter": "python",
   "pygments_lexer": "ipython3",
   "version": "3.10.16"
  }
 },
 "nbformat": 4,
 "nbformat_minor": 2
}
